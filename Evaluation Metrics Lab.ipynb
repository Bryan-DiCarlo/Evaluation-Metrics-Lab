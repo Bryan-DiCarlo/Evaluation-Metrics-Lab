{
 "cells": [
  {
   "cell_type": "markdown",
   "metadata": {},
   "source": [
    "# Evaluation Metrics - Lab\n",
    "\n",
    "## Introduction\n",
    "\n",
    "In this lab, we'll calculate various evaluation metrics to compare to evaluate classifier performance!\n",
    "\n",
    "## Objectives\n",
    "\n",
    "You will be able to:\n",
    "\n",
    "* Read and interpret results using a Confusion Matrix\n",
    "* Calculate and interpret precision and recall and evaluation metrics for classification\n",
    "* Calculate and interpret accuracy and f1-score as evaluation metrics for classification\n",
    "\n",
    "## Getting Started\n",
    "\n",
    "For this lab, you're going to read in a DataFrame containing various predictions from different models, as well as the ground-truth labels for the dataset that each model was making predictions on. You'll also write various functions to help you easily calculate important evaluation metrics such as **_Precision_**, **_Recall_**, **_Accuracy_**, and **_F1-Score_**.\n",
    "\n",
    "Let's start by reading in our dataset. You'll find the dataset stored in `'model_performance.csv'`. In the cell below, use pandas to read this dataset into a DataFrame, and inspect the head."
   ]
  },
  {
   "cell_type": "code",
   "execution_count": 10,
   "metadata": {},
   "outputs": [
    {
     "data": {
      "text/html": [
       "<div>\n",
       "<style scoped>\n",
       "    .dataframe tbody tr th:only-of-type {\n",
       "        vertical-align: middle;\n",
       "    }\n",
       "\n",
       "    .dataframe tbody tr th {\n",
       "        vertical-align: top;\n",
       "    }\n",
       "\n",
       "    .dataframe thead th {\n",
       "        text-align: right;\n",
       "    }\n",
       "</style>\n",
       "<table border=\"1\" class=\"dataframe\">\n",
       "  <thead>\n",
       "    <tr style=\"text-align: right;\">\n",
       "      <th></th>\n",
       "      <th>Model 1 Predictions</th>\n",
       "      <th>Model 2 Predictions</th>\n",
       "      <th>Model 3 Predictions</th>\n",
       "      <th>Labels</th>\n",
       "    </tr>\n",
       "  </thead>\n",
       "  <tbody>\n",
       "    <tr>\n",
       "      <th>0</th>\n",
       "      <td>1</td>\n",
       "      <td>1</td>\n",
       "      <td>1</td>\n",
       "      <td>1</td>\n",
       "    </tr>\n",
       "    <tr>\n",
       "      <th>1</th>\n",
       "      <td>1</td>\n",
       "      <td>1</td>\n",
       "      <td>1</td>\n",
       "      <td>1</td>\n",
       "    </tr>\n",
       "    <tr>\n",
       "      <th>2</th>\n",
       "      <td>1</td>\n",
       "      <td>1</td>\n",
       "      <td>1</td>\n",
       "      <td>1</td>\n",
       "    </tr>\n",
       "    <tr>\n",
       "      <th>3</th>\n",
       "      <td>0</td>\n",
       "      <td>1</td>\n",
       "      <td>1</td>\n",
       "      <td>0</td>\n",
       "    </tr>\n",
       "    <tr>\n",
       "      <th>4</th>\n",
       "      <td>0</td>\n",
       "      <td>0</td>\n",
       "      <td>1</td>\n",
       "      <td>1</td>\n",
       "    </tr>\n",
       "  </tbody>\n",
       "</table>\n",
       "</div>"
      ],
      "text/plain": [
       "   Model 1 Predictions  Model 2 Predictions  Model 3 Predictions  Labels\n",
       "0                    1                    1                    1       1\n",
       "1                    1                    1                    1       1\n",
       "2                    1                    1                    1       1\n",
       "3                    0                    1                    1       0\n",
       "4                    0                    0                    1       1"
      ]
     },
     "execution_count": 10,
     "metadata": {},
     "output_type": "execute_result"
    }
   ],
   "source": [
    "import seaborn as sns\n",
    "import pandas as pd\n",
    "df = pd.read_csv('model_performance.csv')\n",
    "df.head()"
   ]
  },
  {
   "cell_type": "markdown",
   "metadata": {},
   "source": [
    "The dataset consists of model predictions from 3 different models, as well as the corresponding labels for row in the dataset. \n",
    "\n",
    "In the cell below, store each of the following predictions and labels in separate variables."
   ]
  },
  {
   "cell_type": "code",
   "execution_count": 12,
   "metadata": {},
   "outputs": [],
   "source": [
    "model1_preds = df['Model 1 Predictions']\n",
    "model2_preds = df['Model 2 Predictions']\n",
    "model3_preds = df['Model 3 Predictions']\n",
    "labels = df['Labels']"
   ]
  },
  {
   "cell_type": "markdown",
   "metadata": {},
   "source": [
    "Good! Now, let's get started by building a confusion matrix!\n",
    "\n",
    "## Confusion Matrix\n",
    "\n",
    "In the cell below, complete the `conf_matrix` function.  This function should:\n",
    "\n",
    "* Take in 2 arguments: \n",
    "    * `y_true`, an array of labels\n",
    "    * `y_pred`, an array of model predictions\n",
    "* Return a Confusion Matrix in the form of a dictionary, where the keys are `'TP', 'TN', 'FP', 'FN'`. "
   ]
  },
  {
   "cell_type": "code",
   "execution_count": 13,
   "metadata": {},
   "outputs": [],
   "source": [
    "def conf_matrix(y_true, y_pred):\n",
    "    cm = {'TP': 0, 'TN': 0, 'FP': 0, 'FN': 0}\n",
    "    \n",
    "    for ind, label in enumerate(y_true):\n",
    "        pred = y_pred[ind]\n",
    "        if label == 1:\n",
    "            # CASE: TP \n",
    "            if label == pred:\n",
    "                cm['TP'] += 1\n",
    "            # CASE: FN\n",
    "            else:\n",
    "                cm['FN'] += 1\n",
    "        else:\n",
    "            # CASE: TN\n",
    "            if label == pred:\n",
    "                cm['TN'] += 1\n",
    "            # CASE: FP\n",
    "            else:\n",
    "                cm['FP'] += 1\n",
    "    return cm"
   ]
  },
  {
   "cell_type": "markdown",
   "metadata": {},
   "source": [
    "Great! Now, let's double check that our function was created correctly by creating confusion matrices for each of our 3 models. Expected outputs have been provided for you to check your results against."
   ]
  },
  {
   "cell_type": "code",
   "execution_count": 14,
   "metadata": {},
   "outputs": [
    {
     "data": {
      "text/plain": [
       "{'TP': 6168, 'TN': 2654, 'FP': 346, 'FN': 832}"
      ]
     },
     "execution_count": 14,
     "metadata": {},
     "output_type": "execute_result"
    }
   ],
   "source": [
    "# Model 1 Expected Output: {'TP': 6168, 'TN': 2654, 'FP': 346, 'FN': 832}\n",
    "model1_confusion_matrix = conf_matrix(labels, model1_preds)\n",
    "model1_confusion_matrix"
   ]
  },
  {
   "cell_type": "code",
   "execution_count": 15,
   "metadata": {},
   "outputs": [
    {
     "data": {
      "text/plain": [
       "{'TP': 3914, 'TN': 1659, 'FP': 1341, 'FN': 3086}"
      ]
     },
     "execution_count": 15,
     "metadata": {},
     "output_type": "execute_result"
    }
   ],
   "source": [
    "# Model 2 Expected Output: {'TP': 3914, 'TN': 1659, 'FP': 1341, 'FN': 3086}\n",
    "model2_confusion_matrix = conf_matrix(labels, model2_preds)\n",
    "model2_confusion_matrix"
   ]
  },
  {
   "cell_type": "code",
   "execution_count": 16,
   "metadata": {},
   "outputs": [
    {
     "data": {
      "text/plain": [
       "{'TP': 5505, 'TN': 2319, 'FP': 681, 'FN': 1495}"
      ]
     },
     "execution_count": 16,
     "metadata": {},
     "output_type": "execute_result"
    }
   ],
   "source": [
    "# Model 3 Expected Output: {'TP': 5505, 'TN': 2319, 'FP': 681, 'FN': 1495}\n",
    "model3_confusion_matrix = conf_matrix(labels, model3_preds)\n",
    "model3_confusion_matrix"
   ]
  },
  {
   "cell_type": "markdown",
   "metadata": {},
   "source": [
    "## Checking Our Work with sklearn\n",
    "\n",
    "To check our work, let's make use the the `confusion_matrix()` function found in `sklearn.metrics` to create some confusion matrices and make sure that sklearn's results match up with our own.\n",
    "\n",
    "In the cells below, import the `confusion_matrix()` function, use it to create a confusion matrix for each of our models, and then compare the results with the confusion matrices we created above. "
   ]
  },
  {
   "cell_type": "code",
   "execution_count": 21,
   "metadata": {},
   "outputs": [
    {
     "data": {
      "text/plain": [
       "<matplotlib.axes._subplots.AxesSubplot at 0x19cb3138978>"
      ]
     },
     "execution_count": 21,
     "metadata": {},
     "output_type": "execute_result"
    },
    {
     "data": {
      "image/png": "[encoded data removed]",
      "text/plain": [
       "<Figure size 432x288 with 2 Axes>"
      ]
     },
     "metadata": {
      "needs_background": "light"
     },
     "output_type": "display_data"
    }
   ],
   "source": [
    "from sklearn.metrics import confusion_matrix\n",
    "\n",
    "model1_sk_cm = confusion_matrix(labels, model1_preds)\n",
    "sns.heatmap(model1_sk_cm, annot=True, fmt='3g', cmap='Blues')"
   ]
  },
  {
   "cell_type": "code",
   "execution_count": 22,
   "metadata": {},
   "outputs": [
    {
     "data": {
      "text/plain": [
       "<matplotlib.axes._subplots.AxesSubplot at 0x19cb31b72b0>"
      ]
     },
     "execution_count": 22,
     "metadata": {},
     "output_type": "execute_result"
    },
    {
     "data": {
      "image/png": "[encoded data removed]",
      "text/plain": [
       "<Figure size 432x288 with 2 Axes>"
      ]
     },
     "metadata": {
      "needs_background": "light"
     },
     "output_type": "display_data"
    }
   ],
   "source": [
    "model2_sk_cm = confusion_matrix(labels, model2_preds)\n",
    "sns.heatmap(model2_sk_cm, annot=True, fmt='3g', cmap='Blues')"
   ]
  },
  {
   "cell_type": "code",
   "execution_count": 23,
   "metadata": {},
   "outputs": [
    {
     "data": {
      "text/plain": [
       "<matplotlib.axes._subplots.AxesSubplot at 0x19cb3222b00>"
      ]
     },
     "execution_count": 23,
     "metadata": {},
     "output_type": "execute_result"
    },
    {
     "data": {
      "image/png": "[encoded data removed]",
      "text/plain": [
       "<Figure size 432x288 with 2 Axes>"
      ]
     },
     "metadata": {
      "needs_background": "light"
     },
     "output_type": "display_data"
    }
   ],
   "source": [
    "model3_sk_cm = confusion_matrix(labels, model3_preds)\n",
    "sns.heatmap(model3_sk_cm, annot=True, fmt='3g', cmap='Blues')"
   ]
  },
  {
   "cell_type": "markdown",
   "metadata": {},
   "source": [
    "## (Optional) Visualizing Confusion Matrices\n",
    "\n",
    "In the cells below, use the visualization function shown in the **_Confusion Matrices_** lesson to visualize each of the confusion matrices created above. "
   ]
  },
  {
   "cell_type": "code",
   "execution_count": null,
   "metadata": {},
   "outputs": [],
   "source": []
  },
  {
   "cell_type": "code",
   "execution_count": null,
   "metadata": {},
   "outputs": [],
   "source": []
  },
  {
   "cell_type": "code",
   "execution_count": null,
   "metadata": {},
   "outputs": [],
   "source": []
  },
  {
   "cell_type": "code",
   "execution_count": null,
   "metadata": {},
   "outputs": [],
   "source": []
  },
  {
   "cell_type": "markdown",
   "metadata": {},
   "source": [
    "## Calculating Evaluation Metrics\n",
    "\n",
    "Now, we'll use our newly created confusion matrices to calculate some evaluation metrics. \n",
    "\n",
    "As a reminder, here are the equations for each evaluation metric we'll be calculating in this lab:\n",
    "\n",
    "### Precision\n",
    "\n",
    "$$Precision = \\frac{\\text{Number of True Positives}}{\\text{Number of Predicted Positives}}$$\n",
    "\n",
    "### Recall\n",
    "\n",
    "$$Recall = \\frac{\\text{Number of True Positives}}{\\text{Number of Actual Total Positives}}$$\n",
    "\n",
    "### Accuracy\n",
    "\n",
    "$$Accuracy = \\frac{\\text{Number of True Positives + True Negatives}}{\\text{Total Observations}}$$\n",
    "\n",
    "### F1-Score\n",
    "\n",
    "$$F1-Score = 2\\ \\frac{Precision\\ x\\ Recall}{Precision + Recall}$$\n",
    "\n",
    "In each of the cells below, complete the function to calculate the appropriate evaluation metrics. Use the output to fill in the following table: \n",
    "\n",
    "|  Model  | Precision | Recall | Accuracy | F1-Score |\n",
    "|:-------:|:---------:|:------:|:--------:|:--------:|\n",
    "| Model 1 |     0.94688363524716      |    0.8811428571428571    |     0.8822     |     0.9128311380790292     |\n",
    "| Model 2 |     0.744814462416746      |    0.5591428571428572    |     0.5573     |    0.6387596899224806      |\n",
    "| Model 3 |    0.8899127061105723      |   0.7864285714285715     |    0.7824      |     0.8349764902168968     |\n",
    "\n",
    "**_QUESTION:_** Which model performed the best? How do arrive at your answer?"
   ]
  },
  {
   "cell_type": "code",
   "execution_count": 24,
   "metadata": {},
   "outputs": [
    {
     "name": "stdout",
     "output_type": "stream",
     "text": [
      "0.94688363524716\n",
      "0.744814462416746\n",
      "0.8899127061105723\n"
     ]
    }
   ],
   "source": [
    "def precision(confusion_matrix):\n",
    "    return confusion_matrix['TP']/(confusion_matrix['TP'] + confusion_matrix['FP'])\n",
    "   \n",
    "print(precision(model1_confusion_matrix)) # Expected Output: 0.94688363524716\n",
    "print(precision(model2_confusion_matrix)) # Expected Output: 0.744814462416746\n",
    "print(precision(model3_confusion_matrix)) # Expected Output: 0.8899127061105723"
   ]
  },
  {
   "cell_type": "code",
   "execution_count": 25,
   "metadata": {},
   "outputs": [
    {
     "name": "stdout",
     "output_type": "stream",
     "text": [
      "0.8811428571428571\n",
      "0.5591428571428572\n",
      "0.7864285714285715\n"
     ]
    }
   ],
   "source": [
    "def recall(confusion_matrix):\n",
    "    return confusion_matrix['TP'] / (confusion_matrix['TP'] + confusion_matrix['FN'])\n",
    "\n",
    "print(recall(model1_confusion_matrix)) # Expected Output: 0.8811428571428571\n",
    "print(recall(model2_confusion_matrix)) # Expected Output: 0.5591428571428572\n",
    "print(recall(model3_confusion_matrix)) # Expected Output: 0.7864285714285715"
   ]
  },
  {
   "cell_type": "code",
   "execution_count": 26,
   "metadata": {},
   "outputs": [
    {
     "name": "stdout",
     "output_type": "stream",
     "text": [
      "0.8822\n",
      "0.5573\n",
      "0.7824\n"
     ]
    }
   ],
   "source": [
    "def accuracy(confusion_matrix):\n",
    "    return (confusion_matrix['TP'] + confusion_matrix['TN']) / len(labels)\n",
    "\n",
    "print(accuracy(model1_confusion_matrix)) # Expected Output: 0.8822\n",
    "print(accuracy(model2_confusion_matrix)) # Expected Output: 0.5573\n",
    "print(accuracy(model3_confusion_matrix)) # Expected Output: 0.7824"
   ]
  },
  {
   "cell_type": "code",
   "execution_count": 27,
   "metadata": {},
   "outputs": [
    {
     "name": "stdout",
     "output_type": "stream",
     "text": [
      "0.9128311380790292\n",
      "0.6387596899224806\n",
      "0.8349764902168968\n"
     ]
    }
   ],
   "source": [
    "def f1(confusion_matrix):\n",
    "    precision_score = precision(confusion_matrix)\n",
    "    recall_score = recall(confusion_matrix)\n",
    "    numerator = precision_score * recall_score\n",
    "    denominator = precision_score + recall_score\n",
    "    return 2 * (numerator / denominator)\n",
    "\n",
    "print(f1(model1_confusion_matrix)) # Expected Output: 0.9128311380790292\n",
    "print(f1(model2_confusion_matrix)) # Expected Output: 0.6387596899224806\n",
    "print(f1(model3_confusion_matrix)) # Expected Output: 0.8349764902168968"
   ]
  },
  {
   "cell_type": "markdown",
   "metadata": {},
   "source": [
    "Great Job! Let's check our work with sklearn. \n",
    "\n",
    "## Calculating Metrics with sklearn\n",
    "\n",
    "Each of the metrics we calculated above are also available inside the `sklearn.metrics` module.  \n",
    "\n",
    "In the cell below, import the following functions:\n",
    "\n",
    "* `precision_score`\n",
    "* `recall_score`\n",
    "* `accuracy_score`\n",
    "* `f1_score`\n",
    "\n",
    "Then, use the `labels` and the predictions from each model (not the confusion matrices) to double check the performance of our functions above. "
   ]
  },
  {
   "cell_type": "code",
   "execution_count": 28,
   "metadata": {},
   "outputs": [
    {
     "name": "stdout",
     "output_type": "stream",
     "text": [
      "----------------------------------------\n",
      "Model 1 Metrics:\n",
      "Precision: 0.94688363524716\n",
      "Recall: 0.8811428571428571\n",
      "Accuracy: 0.8822\n",
      "F1-Score: 0.9128311380790292\n",
      "----------------------------------------\n",
      "Model 2 Metrics:\n",
      "Precision: 0.744814462416746\n",
      "Recall: 0.5591428571428572\n",
      "Accuracy: 0.5573\n",
      "F1-Score: 0.6387596899224806\n",
      "----------------------------------------\n",
      "Model 3 Metrics:\n",
      "Precision: 0.8899127061105723\n",
      "Recall: 0.7864285714285715\n",
      "Accuracy: 0.7824\n",
      "F1-Score: 0.8349764902168968\n"
     ]
    }
   ],
   "source": [
    "from sklearn.metrics import precision_score, recall_score, accuracy_score, f1_score\n",
    "\n",
    "preds = [model1_preds, model2_preds, model3_preds]\n",
    "\n",
    "for ind, i in enumerate(preds):\n",
    "    print('-'*40)\n",
    "    print('Model {} Metrics:'.format(ind + 1))\n",
    "    print('Precision: {}'.format(precision_score(labels, i)))\n",
    "    print('Recall: {}'.format(recall_score(labels, i)))\n",
    "    print('Accuracy: {}'.format(accuracy_score(labels, i)))\n",
    "    print('F1-Score: {}'.format(f1_score(labels, i)))"
   ]
  },
  {
   "cell_type": "markdown",
   "metadata": {},
   "source": [
    "## Classification Reports\n",
    "\n",
    "Remember that table that you filled out above? It's called a **_Classification Report_**, and it turns out that sklearn can even create one of those for you! This classification report even breaks down performance by individual class predictions for your model. \n",
    "\n",
    "In closing, let's create some and interpret some classification reports using sklearn. Like everything else we've used this lab, you can find the `classification_report()` function inside the `sklearn.metrics` module.  This function takes in two required arguments: labels, and predictions. \n",
    "\n",
    "Complete the code in the cell below to create classification reports for each of our models. "
   ]
  },
  {
   "cell_type": "code",
   "execution_count": 29,
   "metadata": {},
   "outputs": [
    {
     "name": "stdout",
     "output_type": "stream",
     "text": [
      "----------------------------------------\n",
      "Model 1 Classification Report:\n",
      "              precision    recall  f1-score   support\n",
      "\n",
      "           0       0.76      0.88      0.82      3000\n",
      "           1       0.95      0.88      0.91      7000\n",
      "\n",
      "   micro avg       0.88      0.88      0.88     10000\n",
      "   macro avg       0.85      0.88      0.87     10000\n",
      "weighted avg       0.89      0.88      0.88     10000\n",
      "\n",
      "----------------------------------------\n",
      "Model 2 Classification Report:\n",
      "              precision    recall  f1-score   support\n",
      "\n",
      "           0       0.35      0.55      0.43      3000\n",
      "           1       0.74      0.56      0.64      7000\n",
      "\n",
      "   micro avg       0.56      0.56      0.56     10000\n",
      "   macro avg       0.55      0.56      0.53     10000\n",
      "weighted avg       0.63      0.56      0.58     10000\n",
      "\n",
      "----------------------------------------\n",
      "Model 3 Classification Report:\n",
      "              precision    recall  f1-score   support\n",
      "\n",
      "           0       0.61      0.77      0.68      3000\n",
      "           1       0.89      0.79      0.83      7000\n",
      "\n",
      "   micro avg       0.78      0.78      0.78     10000\n",
      "   macro avg       0.75      0.78      0.76     10000\n",
      "weighted avg       0.81      0.78      0.79     10000\n",
      "\n"
     ]
    }
   ],
   "source": [
    "from sklearn.metrics import classification_report\n",
    "\n",
    "for ind, i in enumerate(preds):\n",
    "    print('-'*40)\n",
    "    print(\"Model {} Classification Report:\".format(ind + 1))\n",
    "    print(classification_report(labels, i))"
   ]
  },
  {
   "cell_type": "markdown",
   "metadata": {},
   "source": [
    "## Summary\n",
    "\n",
    "In this lab, we manually calculated various evaluation metrics to help us evaluate classifier performance, and we also made use of preexisting tools inside of sklearn for the same purpose. "
   ]
  }
 ],
 "metadata": {
  "kernelspec": {
   "display_name": "Python 3",
   "language": "python",
   "name": "python3"
  },
  "language_info": {
   "codemirror_mode": {
    "name": "ipython",
    "version": 3
   },
   "file_extension": ".py",
   "mimetype": "text/x-python",
   "name": "python",
   "nbconvert_exporter": "python",
   "pygments_lexer": "ipython3",
   "version": "3.7.3"
  }
 },
 "nbformat": 4,
 "nbformat_minor": 2
}
